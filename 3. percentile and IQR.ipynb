{
 "cells": [
  {
   "cell_type": "code",
   "execution_count": 1,
   "id": "e95a9317",
   "metadata": {},
   "outputs": [],
   "source": [
    "import pandas as pd"
   ]
  },
  {
   "cell_type": "code",
   "execution_count": 2,
   "id": "4c76afb2",
   "metadata": {},
   "outputs": [],
   "source": [
    "import numpy as np"
   ]
  },
  {
   "cell_type": "code",
   "execution_count": 3,
   "id": "58e4241d",
   "metadata": {},
   "outputs": [],
   "source": [
    "dataset=pd.read_csv(\"Placement.csv\")"
   ]
  },
  {
   "cell_type": "code",
   "execution_count": 4,
   "id": "38a8b1c7",
   "metadata": {},
   "outputs": [],
   "source": [
    "from Univariate import Univariate"
   ]
  },
  {
   "cell_type": "code",
   "execution_count": 5,
   "id": "e985f109",
   "metadata": {},
   "outputs": [],
   "source": [
    "qual,quan=Univariate.Quanqual(dataset)"
   ]
  },
  {
   "cell_type": "code",
   "execution_count": 6,
   "id": "709cb5ce",
   "metadata": {},
   "outputs": [
    {
     "data": {
      "text/plain": [
       "['gender',\n",
       " 'ssc_b',\n",
       " 'hsc_b',\n",
       " 'hsc_s',\n",
       " 'degree_t',\n",
       " 'workex',\n",
       " 'specialisation',\n",
       " 'status']"
      ]
     },
     "execution_count": 6,
     "metadata": {},
     "output_type": "execute_result"
    }
   ],
   "source": [
    "qual"
   ]
  },
  {
   "cell_type": "code",
   "execution_count": 7,
   "id": "40967850",
   "metadata": {},
   "outputs": [
    {
     "data": {
      "text/plain": [
       "['sl_no', 'ssc_p', 'hsc_p', 'degree_p', 'etest_p', 'mba_p', 'salary']"
      ]
     },
     "execution_count": 7,
     "metadata": {},
     "output_type": "execute_result"
    }
   ],
   "source": [
    "quan"
   ]
  },
  {
   "cell_type": "code",
   "execution_count": 9,
   "id": "7182c044",
   "metadata": {},
   "outputs": [
    {
     "data": {
      "text/html": [
       "<div>\n",
       "<style scoped>\n",
       "    .dataframe tbody tr th:only-of-type {\n",
       "        vertical-align: middle;\n",
       "    }\n",
       "\n",
       "    .dataframe tbody tr th {\n",
       "        vertical-align: top;\n",
       "    }\n",
       "\n",
       "    .dataframe thead th {\n",
       "        text-align: right;\n",
       "    }\n",
       "</style>\n",
       "<table border=\"1\" class=\"dataframe\">\n",
       "  <thead>\n",
       "    <tr style=\"text-align: right;\">\n",
       "      <th></th>\n",
       "      <th>sl_no</th>\n",
       "      <th>ssc_p</th>\n",
       "      <th>hsc_p</th>\n",
       "      <th>degree_p</th>\n",
       "      <th>etest_p</th>\n",
       "      <th>mba_p</th>\n",
       "      <th>salary</th>\n",
       "    </tr>\n",
       "  </thead>\n",
       "  <tbody>\n",
       "    <tr>\n",
       "      <th>count</th>\n",
       "      <td>215.000000</td>\n",
       "      <td>215.000000</td>\n",
       "      <td>215.000000</td>\n",
       "      <td>215.000000</td>\n",
       "      <td>215.000000</td>\n",
       "      <td>215.000000</td>\n",
       "      <td>148.000000</td>\n",
       "    </tr>\n",
       "    <tr>\n",
       "      <th>mean</th>\n",
       "      <td>108.000000</td>\n",
       "      <td>67.303395</td>\n",
       "      <td>66.333163</td>\n",
       "      <td>66.370186</td>\n",
       "      <td>72.100558</td>\n",
       "      <td>62.278186</td>\n",
       "      <td>288655.405405</td>\n",
       "    </tr>\n",
       "    <tr>\n",
       "      <th>std</th>\n",
       "      <td>62.209324</td>\n",
       "      <td>10.827205</td>\n",
       "      <td>10.897509</td>\n",
       "      <td>7.358743</td>\n",
       "      <td>13.275956</td>\n",
       "      <td>5.833385</td>\n",
       "      <td>93457.452420</td>\n",
       "    </tr>\n",
       "    <tr>\n",
       "      <th>min</th>\n",
       "      <td>1.000000</td>\n",
       "      <td>40.890000</td>\n",
       "      <td>37.000000</td>\n",
       "      <td>50.000000</td>\n",
       "      <td>50.000000</td>\n",
       "      <td>51.210000</td>\n",
       "      <td>200000.000000</td>\n",
       "    </tr>\n",
       "    <tr>\n",
       "      <th>25%</th>\n",
       "      <td>54.500000</td>\n",
       "      <td>60.600000</td>\n",
       "      <td>60.900000</td>\n",
       "      <td>61.000000</td>\n",
       "      <td>60.000000</td>\n",
       "      <td>57.945000</td>\n",
       "      <td>240000.000000</td>\n",
       "    </tr>\n",
       "    <tr>\n",
       "      <th>50%</th>\n",
       "      <td>108.000000</td>\n",
       "      <td>67.000000</td>\n",
       "      <td>65.000000</td>\n",
       "      <td>66.000000</td>\n",
       "      <td>71.000000</td>\n",
       "      <td>62.000000</td>\n",
       "      <td>265000.000000</td>\n",
       "    </tr>\n",
       "    <tr>\n",
       "      <th>75%</th>\n",
       "      <td>161.500000</td>\n",
       "      <td>75.700000</td>\n",
       "      <td>73.000000</td>\n",
       "      <td>72.000000</td>\n",
       "      <td>83.500000</td>\n",
       "      <td>66.255000</td>\n",
       "      <td>300000.000000</td>\n",
       "    </tr>\n",
       "    <tr>\n",
       "      <th>max</th>\n",
       "      <td>215.000000</td>\n",
       "      <td>89.400000</td>\n",
       "      <td>97.700000</td>\n",
       "      <td>91.000000</td>\n",
       "      <td>98.000000</td>\n",
       "      <td>77.890000</td>\n",
       "      <td>940000.000000</td>\n",
       "    </tr>\n",
       "  </tbody>\n",
       "</table>\n",
       "</div>"
      ],
      "text/plain": [
       "            sl_no       ssc_p       hsc_p    degree_p     etest_p       mba_p  \\\n",
       "count  215.000000  215.000000  215.000000  215.000000  215.000000  215.000000   \n",
       "mean   108.000000   67.303395   66.333163   66.370186   72.100558   62.278186   \n",
       "std     62.209324   10.827205   10.897509    7.358743   13.275956    5.833385   \n",
       "min      1.000000   40.890000   37.000000   50.000000   50.000000   51.210000   \n",
       "25%     54.500000   60.600000   60.900000   61.000000   60.000000   57.945000   \n",
       "50%    108.000000   67.000000   65.000000   66.000000   71.000000   62.000000   \n",
       "75%    161.500000   75.700000   73.000000   72.000000   83.500000   66.255000   \n",
       "max    215.000000   89.400000   97.700000   91.000000   98.000000   77.890000   \n",
       "\n",
       "              salary  \n",
       "count     148.000000  \n",
       "mean   288655.405405  \n",
       "std     93457.452420  \n",
       "min    200000.000000  \n",
       "25%    240000.000000  \n",
       "50%    265000.000000  \n",
       "75%    300000.000000  \n",
       "max    940000.000000  "
      ]
     },
     "execution_count": 9,
     "metadata": {},
     "output_type": "execute_result"
    }
   ],
   "source": [
    "dataset.describe()"
   ]
  },
  {
   "cell_type": "code",
   "execution_count": 10,
   "id": "89c419d8",
   "metadata": {},
   "outputs": [
    {
     "data": {
      "text/plain": [
       "60.599999999999994"
      ]
     },
     "execution_count": 10,
     "metadata": {},
     "output_type": "execute_result"
    }
   ],
   "source": [
    "np.percentile(dataset[\"ssc_p\"],25)"
   ]
  },
  {
   "cell_type": "code",
   "execution_count": 11,
   "id": "54b372d0",
   "metadata": {},
   "outputs": [],
   "source": [
    "descriptive=pd.DataFrame(index=[\"Q1:25th\",\"Q2:50th\",\"Q3:75th\",\"99th\",\"Q4:100th\",\"IQR\",\"min\",\"max\",\"lower whister\",\"upper whister\"],columns=quan)\n",
    "for columnName in quan:\n",
    "    descriptive[columnName][\"Q1:25th\"]=dataset.describe()[columnName][\"25%\"]\n",
    "    descriptive[columnName][\"Q2:50th\"]=dataset.describe()[columnName][\"50%\"]\n",
    "    descriptive[columnName][\"Q3:75th\"]=dataset.describe()[columnName][\"75%\"]\n",
    "    descriptive[columnName][\"99th\"]=np.percentile(dataset[columnName],99)\n",
    "    descriptive[columnName][\"Q4:100th\"]=dataset.describe()[columnName][\"max\"]\n",
    "    descriptive[columnName][\"IQR\"]=descriptive[columnName][\"Q3:75th\"]-descriptive[columnName][\"Q1:25th\"]\n",
    "    descriptive[columnName][\"min\"]=dataset.describe()[columnName][\"min\"]\n",
    "    descriptive[columnName][\"max\"]=dataset.describe()[columnName][\"max\"]\n",
    "    descriptive[columnName][\"lower whister\"]=descriptive[columnName][\"Q1:25th\"]-(1.5*descriptive[columnName][\"IQR\"])\n",
    "    descriptive[columnName][\"upper whister\"]=descriptive[columnName][\"Q3:75th\"]+(1.5*descriptive[columnName][\"IQR\"])\n",
    "   \n",
    "    "
   ]
  },
  {
   "cell_type": "code",
   "execution_count": 12,
   "id": "ae3249e7",
   "metadata": {},
   "outputs": [
    {
     "data": {
      "text/html": [
       "<div>\n",
       "<style scoped>\n",
       "    .dataframe tbody tr th:only-of-type {\n",
       "        vertical-align: middle;\n",
       "    }\n",
       "\n",
       "    .dataframe tbody tr th {\n",
       "        vertical-align: top;\n",
       "    }\n",
       "\n",
       "    .dataframe thead th {\n",
       "        text-align: right;\n",
       "    }\n",
       "</style>\n",
       "<table border=\"1\" class=\"dataframe\">\n",
       "  <thead>\n",
       "    <tr style=\"text-align: right;\">\n",
       "      <th></th>\n",
       "      <th>sl_no</th>\n",
       "      <th>ssc_p</th>\n",
       "      <th>hsc_p</th>\n",
       "      <th>degree_p</th>\n",
       "      <th>etest_p</th>\n",
       "      <th>mba_p</th>\n",
       "      <th>salary</th>\n",
       "    </tr>\n",
       "  </thead>\n",
       "  <tbody>\n",
       "    <tr>\n",
       "      <th>Q1:25th</th>\n",
       "      <td>54.5</td>\n",
       "      <td>60.6</td>\n",
       "      <td>60.9</td>\n",
       "      <td>61.0</td>\n",
       "      <td>60.0</td>\n",
       "      <td>57.945</td>\n",
       "      <td>240000.0</td>\n",
       "    </tr>\n",
       "    <tr>\n",
       "      <th>Q2:50th</th>\n",
       "      <td>108.0</td>\n",
       "      <td>67.0</td>\n",
       "      <td>65.0</td>\n",
       "      <td>66.0</td>\n",
       "      <td>71.0</td>\n",
       "      <td>62.0</td>\n",
       "      <td>265000.0</td>\n",
       "    </tr>\n",
       "    <tr>\n",
       "      <th>Q3:75th</th>\n",
       "      <td>161.5</td>\n",
       "      <td>75.7</td>\n",
       "      <td>73.0</td>\n",
       "      <td>72.0</td>\n",
       "      <td>83.5</td>\n",
       "      <td>66.255</td>\n",
       "      <td>300000.0</td>\n",
       "    </tr>\n",
       "    <tr>\n",
       "      <th>99th</th>\n",
       "      <td>212.86</td>\n",
       "      <td>87.0</td>\n",
       "      <td>91.86</td>\n",
       "      <td>83.86</td>\n",
       "      <td>97.0</td>\n",
       "      <td>76.1142</td>\n",
       "      <td>NaN</td>\n",
       "    </tr>\n",
       "    <tr>\n",
       "      <th>Q4:100th</th>\n",
       "      <td>215.0</td>\n",
       "      <td>89.4</td>\n",
       "      <td>97.7</td>\n",
       "      <td>91.0</td>\n",
       "      <td>98.0</td>\n",
       "      <td>77.89</td>\n",
       "      <td>940000.0</td>\n",
       "    </tr>\n",
       "    <tr>\n",
       "      <th>IQR</th>\n",
       "      <td>107.0</td>\n",
       "      <td>15.1</td>\n",
       "      <td>12.1</td>\n",
       "      <td>11.0</td>\n",
       "      <td>23.5</td>\n",
       "      <td>8.31</td>\n",
       "      <td>60000.0</td>\n",
       "    </tr>\n",
       "    <tr>\n",
       "      <th>min</th>\n",
       "      <td>1.0</td>\n",
       "      <td>40.89</td>\n",
       "      <td>37.0</td>\n",
       "      <td>50.0</td>\n",
       "      <td>50.0</td>\n",
       "      <td>51.21</td>\n",
       "      <td>200000.0</td>\n",
       "    </tr>\n",
       "    <tr>\n",
       "      <th>max</th>\n",
       "      <td>215.0</td>\n",
       "      <td>89.4</td>\n",
       "      <td>97.7</td>\n",
       "      <td>91.0</td>\n",
       "      <td>98.0</td>\n",
       "      <td>77.89</td>\n",
       "      <td>940000.0</td>\n",
       "    </tr>\n",
       "    <tr>\n",
       "      <th>lower whister</th>\n",
       "      <td>-106.0</td>\n",
       "      <td>37.95</td>\n",
       "      <td>42.75</td>\n",
       "      <td>44.5</td>\n",
       "      <td>24.75</td>\n",
       "      <td>45.48</td>\n",
       "      <td>150000.0</td>\n",
       "    </tr>\n",
       "    <tr>\n",
       "      <th>upper whister</th>\n",
       "      <td>322.0</td>\n",
       "      <td>98.35</td>\n",
       "      <td>91.15</td>\n",
       "      <td>88.5</td>\n",
       "      <td>118.75</td>\n",
       "      <td>78.72</td>\n",
       "      <td>390000.0</td>\n",
       "    </tr>\n",
       "  </tbody>\n",
       "</table>\n",
       "</div>"
      ],
      "text/plain": [
       "                sl_no  ssc_p  hsc_p degree_p etest_p    mba_p    salary\n",
       "Q1:25th          54.5   60.6   60.9     61.0    60.0   57.945  240000.0\n",
       "Q2:50th         108.0   67.0   65.0     66.0    71.0     62.0  265000.0\n",
       "Q3:75th         161.5   75.7   73.0     72.0    83.5   66.255  300000.0\n",
       "99th           212.86   87.0  91.86    83.86    97.0  76.1142       NaN\n",
       "Q4:100th        215.0   89.4   97.7     91.0    98.0    77.89  940000.0\n",
       "IQR             107.0   15.1   12.1     11.0    23.5     8.31   60000.0\n",
       "min               1.0  40.89   37.0     50.0    50.0    51.21  200000.0\n",
       "max             215.0   89.4   97.7     91.0    98.0    77.89  940000.0\n",
       "lower whister  -106.0  37.95  42.75     44.5   24.75    45.48  150000.0\n",
       "upper whister   322.0  98.35  91.15     88.5  118.75    78.72  390000.0"
      ]
     },
     "execution_count": 12,
     "metadata": {},
     "output_type": "execute_result"
    }
   ],
   "source": [
    "descriptive"
   ]
  },
  {
   "cell_type": "code",
   "execution_count": 8,
   "id": "a83e261d",
   "metadata": {},
   "outputs": [],
   "source": [
    "def Univariate(dataset,quan):\n",
    "    descriptive=pd.DataFrame(index=[\"mean\",\"median\",\"mode\",\"Q1:25th\",\"Q2:50th\",\n",
    "                                    \"Q3:75th\",\"99th\",\"Q4:100th\",\"IQR\",\"min\",\"max\",\n",
    "                                    \"lower whister\",\"upper whister\",\"skewness\",\"kurtosis\",\"var\",\"std\"],columns=quan)\n",
    "    for columnName in quan:\n",
    "        descriptive[columnName][\"mean\"]=dataset[columnName].mean()\n",
    "        descriptive[columnName][\"median\"]=dataset[columnName].median()\n",
    "        descriptive[columnName][\"mode\"]=dataset[columnName].mode()[0]\n",
    "        descriptive[columnName][\"Q1:25th\"]=dataset.describe()[columnName][\"25%\"]\n",
    "        descriptive[columnName][\"Q2:50th\"]=dataset.describe()[columnName][\"50%\"]\n",
    "        descriptive[columnName][\"Q3:75th\"]=dataset.describe()[columnName][\"75%\"]\n",
    "        descriptive[columnName][\"99th\"]=np.percentile(dataset[columnName],99)\n",
    "        descriptive[columnName][\"Q4:100th\"]=dataset.describe()[columnName][\"max\"]\n",
    "        descriptive[columnName][\"IQR\"]=descriptive[columnName][\"Q3:75th\"]-descriptive[columnName][\"Q1:25th\"]\n",
    "        descriptive[columnName][\"min\"]=dataset.describe()[columnName][\"min\"]\n",
    "        descriptive[columnName][\"max\"]=dataset.describe()[columnName][\"max\"]\n",
    "        descriptive[columnName][\"lower whister\"]=descriptive[columnName][\"Q1:25th\"]-(1.5*descriptive[columnName][\"IQR\"])\n",
    "        descriptive[columnName][\"upper whister\"]=descriptive[columnName][\"Q3:75th\"]+(1.5*descriptive[columnName][\"IQR\"])\n",
    "        descriptive[columnName][\"skewness\"]=dataset[columnName].skew()\n",
    "        descriptive[columnName][\"kurtosis\"]=dataset[columnName].kurtosis()\n",
    "        descriptive[columnName][\"var\"]=dataset[columnName].var()\n",
    "        descriptive[columnName][\"std\"]=dataset[columnName].std()\n",
    "    return descriptive"
   ]
  },
  {
   "cell_type": "code",
   "execution_count": 9,
   "id": "a7bf6ac1",
   "metadata": {},
   "outputs": [
    {
     "data": {
      "text/html": [
       "<div>\n",
       "<style scoped>\n",
       "    .dataframe tbody tr th:only-of-type {\n",
       "        vertical-align: middle;\n",
       "    }\n",
       "\n",
       "    .dataframe tbody tr th {\n",
       "        vertical-align: top;\n",
       "    }\n",
       "\n",
       "    .dataframe thead th {\n",
       "        text-align: right;\n",
       "    }\n",
       "</style>\n",
       "<table border=\"1\" class=\"dataframe\">\n",
       "  <thead>\n",
       "    <tr style=\"text-align: right;\">\n",
       "      <th></th>\n",
       "      <th>sl_no</th>\n",
       "      <th>ssc_p</th>\n",
       "      <th>hsc_p</th>\n",
       "      <th>degree_p</th>\n",
       "      <th>etest_p</th>\n",
       "      <th>mba_p</th>\n",
       "      <th>salary</th>\n",
       "    </tr>\n",
       "  </thead>\n",
       "  <tbody>\n",
       "    <tr>\n",
       "      <th>mean</th>\n",
       "      <td>108.0</td>\n",
       "      <td>67.303395</td>\n",
       "      <td>66.333163</td>\n",
       "      <td>66.370186</td>\n",
       "      <td>72.100558</td>\n",
       "      <td>62.278186</td>\n",
       "      <td>288655.405405</td>\n",
       "    </tr>\n",
       "    <tr>\n",
       "      <th>median</th>\n",
       "      <td>108.0</td>\n",
       "      <td>67.0</td>\n",
       "      <td>65.0</td>\n",
       "      <td>66.0</td>\n",
       "      <td>71.0</td>\n",
       "      <td>62.0</td>\n",
       "      <td>265000.0</td>\n",
       "    </tr>\n",
       "    <tr>\n",
       "      <th>mode</th>\n",
       "      <td>1</td>\n",
       "      <td>62.0</td>\n",
       "      <td>63.0</td>\n",
       "      <td>65.0</td>\n",
       "      <td>60.0</td>\n",
       "      <td>56.7</td>\n",
       "      <td>300000.0</td>\n",
       "    </tr>\n",
       "    <tr>\n",
       "      <th>Q1:25th</th>\n",
       "      <td>54.5</td>\n",
       "      <td>60.6</td>\n",
       "      <td>60.9</td>\n",
       "      <td>61.0</td>\n",
       "      <td>60.0</td>\n",
       "      <td>57.945</td>\n",
       "      <td>240000.0</td>\n",
       "    </tr>\n",
       "    <tr>\n",
       "      <th>Q2:50th</th>\n",
       "      <td>108.0</td>\n",
       "      <td>67.0</td>\n",
       "      <td>65.0</td>\n",
       "      <td>66.0</td>\n",
       "      <td>71.0</td>\n",
       "      <td>62.0</td>\n",
       "      <td>265000.0</td>\n",
       "    </tr>\n",
       "    <tr>\n",
       "      <th>Q3:75th</th>\n",
       "      <td>161.5</td>\n",
       "      <td>75.7</td>\n",
       "      <td>73.0</td>\n",
       "      <td>72.0</td>\n",
       "      <td>83.5</td>\n",
       "      <td>66.255</td>\n",
       "      <td>300000.0</td>\n",
       "    </tr>\n",
       "    <tr>\n",
       "      <th>99th</th>\n",
       "      <td>212.86</td>\n",
       "      <td>87.0</td>\n",
       "      <td>91.86</td>\n",
       "      <td>83.86</td>\n",
       "      <td>97.0</td>\n",
       "      <td>76.1142</td>\n",
       "      <td>NaN</td>\n",
       "    </tr>\n",
       "    <tr>\n",
       "      <th>Q4:100th</th>\n",
       "      <td>215.0</td>\n",
       "      <td>89.4</td>\n",
       "      <td>97.7</td>\n",
       "      <td>91.0</td>\n",
       "      <td>98.0</td>\n",
       "      <td>77.89</td>\n",
       "      <td>940000.0</td>\n",
       "    </tr>\n",
       "    <tr>\n",
       "      <th>IQR</th>\n",
       "      <td>107.0</td>\n",
       "      <td>15.1</td>\n",
       "      <td>12.1</td>\n",
       "      <td>11.0</td>\n",
       "      <td>23.5</td>\n",
       "      <td>8.31</td>\n",
       "      <td>60000.0</td>\n",
       "    </tr>\n",
       "    <tr>\n",
       "      <th>min</th>\n",
       "      <td>1.0</td>\n",
       "      <td>40.89</td>\n",
       "      <td>37.0</td>\n",
       "      <td>50.0</td>\n",
       "      <td>50.0</td>\n",
       "      <td>51.21</td>\n",
       "      <td>200000.0</td>\n",
       "    </tr>\n",
       "    <tr>\n",
       "      <th>max</th>\n",
       "      <td>215.0</td>\n",
       "      <td>89.4</td>\n",
       "      <td>97.7</td>\n",
       "      <td>91.0</td>\n",
       "      <td>98.0</td>\n",
       "      <td>77.89</td>\n",
       "      <td>940000.0</td>\n",
       "    </tr>\n",
       "    <tr>\n",
       "      <th>lower whister</th>\n",
       "      <td>-106.0</td>\n",
       "      <td>37.95</td>\n",
       "      <td>42.75</td>\n",
       "      <td>44.5</td>\n",
       "      <td>24.75</td>\n",
       "      <td>45.48</td>\n",
       "      <td>150000.0</td>\n",
       "    </tr>\n",
       "    <tr>\n",
       "      <th>upper whister</th>\n",
       "      <td>322.0</td>\n",
       "      <td>98.35</td>\n",
       "      <td>91.15</td>\n",
       "      <td>88.5</td>\n",
       "      <td>118.75</td>\n",
       "      <td>78.72</td>\n",
       "      <td>390000.0</td>\n",
       "    </tr>\n",
       "    <tr>\n",
       "      <th>skewness</th>\n",
       "      <td>0.0</td>\n",
       "      <td>-0.132649</td>\n",
       "      <td>0.163639</td>\n",
       "      <td>0.244917</td>\n",
       "      <td>0.282308</td>\n",
       "      <td>0.313576</td>\n",
       "      <td>3.569747</td>\n",
       "    </tr>\n",
       "    <tr>\n",
       "      <th>kurtosis</th>\n",
       "      <td>-1.2</td>\n",
       "      <td>-0.60751</td>\n",
       "      <td>0.450765</td>\n",
       "      <td>0.052143</td>\n",
       "      <td>-1.08858</td>\n",
       "      <td>-0.470723</td>\n",
       "      <td>18.544273</td>\n",
       "    </tr>\n",
       "    <tr>\n",
       "      <th>var</th>\n",
       "      <td>3870.0</td>\n",
       "      <td>117.228377</td>\n",
       "      <td>118.755706</td>\n",
       "      <td>54.151103</td>\n",
       "      <td>176.251018</td>\n",
       "      <td>34.028376</td>\n",
       "      <td>8734295412.759695</td>\n",
       "    </tr>\n",
       "    <tr>\n",
       "      <th>std</th>\n",
       "      <td>62.209324</td>\n",
       "      <td>10.827205</td>\n",
       "      <td>10.897509</td>\n",
       "      <td>7.358743</td>\n",
       "      <td>13.275956</td>\n",
       "      <td>5.833385</td>\n",
       "      <td>93457.45242</td>\n",
       "    </tr>\n",
       "  </tbody>\n",
       "</table>\n",
       "</div>"
      ],
      "text/plain": [
       "                   sl_no       ssc_p       hsc_p   degree_p     etest_p  \\\n",
       "mean               108.0   67.303395   66.333163  66.370186   72.100558   \n",
       "median             108.0        67.0        65.0       66.0        71.0   \n",
       "mode                   1        62.0        63.0       65.0        60.0   \n",
       "Q1:25th             54.5        60.6        60.9       61.0        60.0   \n",
       "Q2:50th            108.0        67.0        65.0       66.0        71.0   \n",
       "Q3:75th            161.5        75.7        73.0       72.0        83.5   \n",
       "99th              212.86        87.0       91.86      83.86        97.0   \n",
       "Q4:100th           215.0        89.4        97.7       91.0        98.0   \n",
       "IQR                107.0        15.1        12.1       11.0        23.5   \n",
       "min                  1.0       40.89        37.0       50.0        50.0   \n",
       "max                215.0        89.4        97.7       91.0        98.0   \n",
       "lower whister     -106.0       37.95       42.75       44.5       24.75   \n",
       "upper whister      322.0       98.35       91.15       88.5      118.75   \n",
       "skewness             0.0   -0.132649    0.163639   0.244917    0.282308   \n",
       "kurtosis            -1.2    -0.60751    0.450765   0.052143    -1.08858   \n",
       "var               3870.0  117.228377  118.755706  54.151103  176.251018   \n",
       "std            62.209324   10.827205   10.897509   7.358743   13.275956   \n",
       "\n",
       "                   mba_p             salary  \n",
       "mean           62.278186      288655.405405  \n",
       "median              62.0           265000.0  \n",
       "mode                56.7           300000.0  \n",
       "Q1:25th           57.945           240000.0  \n",
       "Q2:50th             62.0           265000.0  \n",
       "Q3:75th           66.255           300000.0  \n",
       "99th             76.1142                NaN  \n",
       "Q4:100th           77.89           940000.0  \n",
       "IQR                 8.31            60000.0  \n",
       "min                51.21           200000.0  \n",
       "max                77.89           940000.0  \n",
       "lower whister      45.48           150000.0  \n",
       "upper whister      78.72           390000.0  \n",
       "skewness        0.313576           3.569747  \n",
       "kurtosis       -0.470723          18.544273  \n",
       "var            34.028376  8734295412.759695  \n",
       "std             5.833385        93457.45242  "
      ]
     },
     "execution_count": 9,
     "metadata": {},
     "output_type": "execute_result"
    }
   ],
   "source": [
    "Univariate(dataset,quan)"
   ]
  },
  {
   "cell_type": "markdown",
   "id": "f28c7d67",
   "metadata": {},
   "source": [
    "# outliers"
   ]
  },
  {
   "cell_type": "code",
   "execution_count": 12,
   "id": "abd0659c",
   "metadata": {},
   "outputs": [
    {
     "name": "stdout",
     "output_type": "stream",
     "text": [
      "outliers are present in the column\n"
     ]
    }
   ],
   "source": [
    "if(descriptive[\"hsc_p\"][\"min\"]<descriptive[\"hsc_p\"][\"lower whister\"]):\n",
    "    print(\"outliers are present in the column\")\n",
    "else:\n",
    "    print(\"outlier are not in the column\")"
   ]
  },
  {
   "cell_type": "code",
   "execution_count": 13,
   "id": "5f4ffcb5",
   "metadata": {},
   "outputs": [],
   "source": [
    "L_outliers=[]\n",
    "G_outliers=[]\n",
    "for columnName in quan:\n",
    "    if(descriptive[columnName][\"min\"]<descriptive[columnName][\"lower whister\"]):\n",
    "        L_outliers.append(columnName)\n",
    "    if(descriptive[columnName][\"max\"]>descriptive[columnName][\"upper whister\"]):\n",
    "        G_outliers.append(columnName)\n",
    "    "
   ]
  },
  {
   "cell_type": "code",
   "execution_count": 14,
   "id": "60b6b261",
   "metadata": {},
   "outputs": [
    {
     "data": {
      "text/plain": [
       "['hsc_p']"
      ]
     },
     "execution_count": 14,
     "metadata": {},
     "output_type": "execute_result"
    }
   ],
   "source": [
    "L_outliers"
   ]
  },
  {
   "cell_type": "code",
   "execution_count": 15,
   "id": "a1ef1d49",
   "metadata": {},
   "outputs": [
    {
     "data": {
      "text/plain": [
       "['hsc_p', 'degree_p', 'salary']"
      ]
     },
     "execution_count": 15,
     "metadata": {},
     "output_type": "execute_result"
    }
   ],
   "source": [
    "G_outliers"
   ]
  },
  {
   "cell_type": "code",
   "execution_count": 37,
   "id": "6cc1a071",
   "metadata": {},
   "outputs": [],
   "source": [
    "def Outliers():\n",
    "    L_outliers=[]\n",
    "    G_outliers=[]\n",
    "    for columnName in quan:\n",
    "        if(descriptive[columnName][\"min\"]<descriptive[columnName][\"lower whister\"]):\n",
    "            L_outliers.append(columnName)\n",
    "        if(descriptive[columnName][\"max\"]>descriptive[columnName][\"upper whister\"]):\n",
    "            G_outliers.append(columnName)\n",
    "    return L_outliers,G_outliers\n",
    "\n",
    "\n"
   ]
  },
  {
   "cell_type": "code",
   "execution_count": 38,
   "id": "1dae5824",
   "metadata": {},
   "outputs": [
    {
     "data": {
      "text/plain": [
       "[]"
      ]
     },
     "execution_count": 38,
     "metadata": {},
     "output_type": "execute_result"
    }
   ],
   "source": [
    "L_outliers"
   ]
  },
  {
   "cell_type": "code",
   "execution_count": 39,
   "id": "808056fb",
   "metadata": {},
   "outputs": [
    {
     "data": {
      "text/plain": [
       "[]"
      ]
     },
     "execution_count": 39,
     "metadata": {},
     "output_type": "execute_result"
    }
   ],
   "source": [
    "G_outliers"
   ]
  },
  {
   "cell_type": "markdown",
   "id": "df767896",
   "metadata": {},
   "source": [
    "# replace of outliers"
   ]
  },
  {
   "cell_type": "code",
   "execution_count": 16,
   "id": "83faccdc",
   "metadata": {},
   "outputs": [
    {
     "name": "stderr",
     "output_type": "stream",
     "text": [
      "C:\\Users\\Admin\\anaconda3\\envs\\AIcoures\\lib\\site-packages\\ipykernel_launcher.py:2: SettingWithCopyWarning: \n",
      "A value is trying to be set on a copy of a slice from a DataFrame\n",
      "\n",
      "See the caveats in the documentation: https://pandas.pydata.org/pandas-docs/stable/user_guide/indexing.html#returning-a-view-versus-a-copy\n",
      "  \n",
      "C:\\Users\\Admin\\anaconda3\\envs\\AIcoures\\lib\\site-packages\\ipykernel_launcher.py:4: SettingWithCopyWarning: \n",
      "A value is trying to be set on a copy of a slice from a DataFrame\n",
      "\n",
      "See the caveats in the documentation: https://pandas.pydata.org/pandas-docs/stable/user_guide/indexing.html#returning-a-view-versus-a-copy\n",
      "  after removing the cwd from sys.path.\n",
      "C:\\Users\\Admin\\anaconda3\\envs\\AIcoures\\lib\\site-packages\\ipykernel_launcher.py:4: SettingWithCopyWarning: \n",
      "A value is trying to be set on a copy of a slice from a DataFrame\n",
      "\n",
      "See the caveats in the documentation: https://pandas.pydata.org/pandas-docs/stable/user_guide/indexing.html#returning-a-view-versus-a-copy\n",
      "  after removing the cwd from sys.path.\n",
      "C:\\Users\\Admin\\anaconda3\\envs\\AIcoures\\lib\\site-packages\\ipykernel_launcher.py:4: SettingWithCopyWarning: \n",
      "A value is trying to be set on a copy of a slice from a DataFrame\n",
      "\n",
      "See the caveats in the documentation: https://pandas.pydata.org/pandas-docs/stable/user_guide/indexing.html#returning-a-view-versus-a-copy\n",
      "  after removing the cwd from sys.path.\n"
     ]
    }
   ],
   "source": [
    "for columnName in L_outliers:\n",
    "    dataset[columnName][dataset[columnName]<descriptive[columnName][\"lower whister\"]]=descriptive[columnName][\"lower whister\"]\n",
    "for columnName in G_outliers:\n",
    "    dataset[columnName][dataset[columnName]>descriptive[columnName][\"upper whister\"]]=descriptive[columnName][\"upper whister\"]\n"
   ]
  },
  {
   "cell_type": "code",
   "execution_count": null,
   "id": "200e7622",
   "metadata": {},
   "outputs": [],
   "source": [
    "def replace():\n",
    "    for columnName in L_outliers:\n",
    "        dataset[columnName][dataset[columnName]<descriptive[columnName][\"lower whister\"]]=descriptive[columnName][\"lower whister\"]\n",
    "    for columnName in G_outliers:\n",
    "        dataset[columnName][dataset[columnName]>descriptive[columnName][\"upper whister\"]]=descriptive[columnName][\"upper whister\"]\n"
   ]
  },
  {
   "cell_type": "code",
   "execution_count": 17,
   "id": "e5f381e4",
   "metadata": {},
   "outputs": [],
   "source": [
    "descriptive=pd.DataFrame(index=[\"Q1:25th\",\"Q2:50th\",\"Q3:75th\",\"99th\",\"Q4:100th\",\"IQR\",\"min\",\"max\",\"lower whister\",\"upper whister\"],columns=quan)\n",
    "for columnName in quan:\n",
    "    descriptive[columnName][\"Q1:25th\"]=dataset.describe()[columnName][\"25%\"]\n",
    "    descriptive[columnName][\"Q2:50th\"]=dataset.describe()[columnName][\"50%\"]\n",
    "    descriptive[columnName][\"Q3:75th\"]=dataset.describe()[columnName][\"75%\"]\n",
    "    descriptive[columnName][\"99th\"]=np.percentile(dataset[columnName],99)\n",
    "    descriptive[columnName][\"Q4:100th\"]=dataset.describe()[columnName][\"max\"]\n",
    "    descriptive[columnName][\"IQR\"]=descriptive[columnName][\"Q3:75th\"]-descriptive[columnName][\"Q1:25th\"]\n",
    "    descriptive[columnName][\"min\"]=dataset.describe()[columnName][\"min\"]\n",
    "    descriptive[columnName][\"max\"]=dataset.describe()[columnName][\"max\"]\n",
    "    descriptive[columnName][\"lower whister\"]=descriptive[columnName][\"Q1:25th\"]-(1.5*descriptive[columnName][\"IQR\"])\n",
    "    descriptive[columnName][\"upper whister\"]=descriptive[columnName][\"Q3:75th\"]+(1.5*descriptive[columnName][\"IQR\"])\n",
    "   "
   ]
  },
  {
   "cell_type": "code",
   "execution_count": 18,
   "id": "2ee664a0",
   "metadata": {},
   "outputs": [
    {
     "data": {
      "text/html": [
       "<div>\n",
       "<style scoped>\n",
       "    .dataframe tbody tr th:only-of-type {\n",
       "        vertical-align: middle;\n",
       "    }\n",
       "\n",
       "    .dataframe tbody tr th {\n",
       "        vertical-align: top;\n",
       "    }\n",
       "\n",
       "    .dataframe thead th {\n",
       "        text-align: right;\n",
       "    }\n",
       "</style>\n",
       "<table border=\"1\" class=\"dataframe\">\n",
       "  <thead>\n",
       "    <tr style=\"text-align: right;\">\n",
       "      <th></th>\n",
       "      <th>sl_no</th>\n",
       "      <th>ssc_p</th>\n",
       "      <th>hsc_p</th>\n",
       "      <th>degree_p</th>\n",
       "      <th>etest_p</th>\n",
       "      <th>mba_p</th>\n",
       "      <th>salary</th>\n",
       "    </tr>\n",
       "  </thead>\n",
       "  <tbody>\n",
       "    <tr>\n",
       "      <th>Q1:25th</th>\n",
       "      <td>54.5</td>\n",
       "      <td>60.6</td>\n",
       "      <td>60.9</td>\n",
       "      <td>61.0</td>\n",
       "      <td>60.0</td>\n",
       "      <td>57.945</td>\n",
       "      <td>240000.0</td>\n",
       "    </tr>\n",
       "    <tr>\n",
       "      <th>Q2:50th</th>\n",
       "      <td>108.0</td>\n",
       "      <td>67.0</td>\n",
       "      <td>65.0</td>\n",
       "      <td>66.0</td>\n",
       "      <td>71.0</td>\n",
       "      <td>62.0</td>\n",
       "      <td>265000.0</td>\n",
       "    </tr>\n",
       "    <tr>\n",
       "      <th>Q3:75th</th>\n",
       "      <td>161.5</td>\n",
       "      <td>75.7</td>\n",
       "      <td>73.0</td>\n",
       "      <td>72.0</td>\n",
       "      <td>83.5</td>\n",
       "      <td>66.255</td>\n",
       "      <td>300000.0</td>\n",
       "    </tr>\n",
       "    <tr>\n",
       "      <th>99th</th>\n",
       "      <td>212.86</td>\n",
       "      <td>87.0</td>\n",
       "      <td>91.129</td>\n",
       "      <td>83.86</td>\n",
       "      <td>97.0</td>\n",
       "      <td>76.1142</td>\n",
       "      <td>NaN</td>\n",
       "    </tr>\n",
       "    <tr>\n",
       "      <th>Q4:100th</th>\n",
       "      <td>215.0</td>\n",
       "      <td>89.4</td>\n",
       "      <td>91.15</td>\n",
       "      <td>88.5</td>\n",
       "      <td>98.0</td>\n",
       "      <td>77.89</td>\n",
       "      <td>390000.0</td>\n",
       "    </tr>\n",
       "    <tr>\n",
       "      <th>IQR</th>\n",
       "      <td>107.0</td>\n",
       "      <td>15.1</td>\n",
       "      <td>12.1</td>\n",
       "      <td>11.0</td>\n",
       "      <td>23.5</td>\n",
       "      <td>8.31</td>\n",
       "      <td>60000.0</td>\n",
       "    </tr>\n",
       "    <tr>\n",
       "      <th>min</th>\n",
       "      <td>1.0</td>\n",
       "      <td>40.89</td>\n",
       "      <td>42.75</td>\n",
       "      <td>50.0</td>\n",
       "      <td>50.0</td>\n",
       "      <td>51.21</td>\n",
       "      <td>200000.0</td>\n",
       "    </tr>\n",
       "    <tr>\n",
       "      <th>max</th>\n",
       "      <td>215.0</td>\n",
       "      <td>89.4</td>\n",
       "      <td>91.15</td>\n",
       "      <td>88.5</td>\n",
       "      <td>98.0</td>\n",
       "      <td>77.89</td>\n",
       "      <td>390000.0</td>\n",
       "    </tr>\n",
       "    <tr>\n",
       "      <th>lower whister</th>\n",
       "      <td>-106.0</td>\n",
       "      <td>37.95</td>\n",
       "      <td>42.75</td>\n",
       "      <td>44.5</td>\n",
       "      <td>24.75</td>\n",
       "      <td>45.48</td>\n",
       "      <td>150000.0</td>\n",
       "    </tr>\n",
       "    <tr>\n",
       "      <th>upper whister</th>\n",
       "      <td>322.0</td>\n",
       "      <td>98.35</td>\n",
       "      <td>91.15</td>\n",
       "      <td>88.5</td>\n",
       "      <td>118.75</td>\n",
       "      <td>78.72</td>\n",
       "      <td>390000.0</td>\n",
       "    </tr>\n",
       "  </tbody>\n",
       "</table>\n",
       "</div>"
      ],
      "text/plain": [
       "                sl_no  ssc_p   hsc_p degree_p etest_p    mba_p    salary\n",
       "Q1:25th          54.5   60.6    60.9     61.0    60.0   57.945  240000.0\n",
       "Q2:50th         108.0   67.0    65.0     66.0    71.0     62.0  265000.0\n",
       "Q3:75th         161.5   75.7    73.0     72.0    83.5   66.255  300000.0\n",
       "99th           212.86   87.0  91.129    83.86    97.0  76.1142       NaN\n",
       "Q4:100th        215.0   89.4   91.15     88.5    98.0    77.89  390000.0\n",
       "IQR             107.0   15.1    12.1     11.0    23.5     8.31   60000.0\n",
       "min               1.0  40.89   42.75     50.0    50.0    51.21  200000.0\n",
       "max             215.0   89.4   91.15     88.5    98.0    77.89  390000.0\n",
       "lower whister  -106.0  37.95   42.75     44.5   24.75    45.48  150000.0\n",
       "upper whister   322.0  98.35   91.15     88.5  118.75    78.72  390000.0"
      ]
     },
     "execution_count": 18,
     "metadata": {},
     "output_type": "execute_result"
    }
   ],
   "source": [
    "descriptive"
   ]
  },
  {
   "cell_type": "code",
   "execution_count": 19,
   "id": "7fc89a5a",
   "metadata": {},
   "outputs": [],
   "source": [
    "L_outliers=[]\n",
    "G_outliers=[]\n",
    "for columnName in quan:\n",
    "    if(descriptive[columnName][\"min\"]<descriptive[columnName][\"lower whister\"]):\n",
    "        L_outliers.append(columnName)\n",
    "    if(descriptive[columnName][\"max\"]>descriptive[columnName][\"upper whister\"]):\n",
    "        G_outliers.append(columnName)"
   ]
  },
  {
   "cell_type": "code",
   "execution_count": 20,
   "id": "3e12be9b",
   "metadata": {},
   "outputs": [
    {
     "data": {
      "text/plain": [
       "[]"
      ]
     },
     "execution_count": 20,
     "metadata": {},
     "output_type": "execute_result"
    }
   ],
   "source": [
    "L_outliers"
   ]
  },
  {
   "cell_type": "code",
   "execution_count": 21,
   "id": "b04d68a8",
   "metadata": {},
   "outputs": [
    {
     "data": {
      "text/plain": [
       "[]"
      ]
     },
     "execution_count": 21,
     "metadata": {},
     "output_type": "execute_result"
    }
   ],
   "source": [
    "G_outliers"
   ]
  },
  {
   "cell_type": "markdown",
   "id": "9b5d76b4",
   "metadata": {},
   "source": [
    "# frequency"
   ]
  },
  {
   "cell_type": "code",
   "execution_count": 24,
   "id": "08be2076",
   "metadata": {},
   "outputs": [
    {
     "data": {
      "text/plain": [
       "62.00    11\n",
       "63.00    10\n",
       "67.00     9\n",
       "73.00     9\n",
       "52.00     9\n",
       "         ..\n",
       "63.40     1\n",
       "63.30     1\n",
       "73.96     1\n",
       "77.67     1\n",
       "65.20     1\n",
       "Name: ssc_p, Length: 103, dtype: int64"
      ]
     },
     "execution_count": 24,
     "metadata": {},
     "output_type": "execute_result"
    }
   ],
   "source": [
    "dataset[\"ssc_p\"].value_counts()"
   ]
  },
  {
   "cell_type": "code",
   "execution_count": 25,
   "id": "96ff7de7",
   "metadata": {},
   "outputs": [],
   "source": [
    "freqtable=pd.DataFrame(columns=[\"Marks\",\"Frequency\",\"Relative_Frequency\",\"Cumsum\"])"
   ]
  },
  {
   "cell_type": "code",
   "execution_count": 26,
   "id": "5d9ac3a6",
   "metadata": {},
   "outputs": [
    {
     "data": {
      "text/html": [
       "<div>\n",
       "<style scoped>\n",
       "    .dataframe tbody tr th:only-of-type {\n",
       "        vertical-align: middle;\n",
       "    }\n",
       "\n",
       "    .dataframe tbody tr th {\n",
       "        vertical-align: top;\n",
       "    }\n",
       "\n",
       "    .dataframe thead th {\n",
       "        text-align: right;\n",
       "    }\n",
       "</style>\n",
       "<table border=\"1\" class=\"dataframe\">\n",
       "  <thead>\n",
       "    <tr style=\"text-align: right;\">\n",
       "      <th></th>\n",
       "      <th>Marks</th>\n",
       "      <th>Frequency</th>\n",
       "      <th>Relative_Frequency</th>\n",
       "      <th>Cumsum</th>\n",
       "    </tr>\n",
       "  </thead>\n",
       "  <tbody>\n",
       "  </tbody>\n",
       "</table>\n",
       "</div>"
      ],
      "text/plain": [
       "Empty DataFrame\n",
       "Columns: [Marks, Frequency, Relative_Frequency, Cumsum]\n",
       "Index: []"
      ]
     },
     "execution_count": 26,
     "metadata": {},
     "output_type": "execute_result"
    }
   ],
   "source": [
    "freqtable"
   ]
  },
  {
   "cell_type": "code",
   "execution_count": 27,
   "id": "6f9f244d",
   "metadata": {},
   "outputs": [],
   "source": [
    "freqtable[\"Marks\"]=dataset[\"ssc_p\"].value_counts().index\n",
    "freqtable[\"Frequency\"]=dataset[\"ssc_p\"].value_counts().values\n",
    "freqtable[\"Relative_Frequency\"]=freqtable[\"Frequency\"]/103\n",
    "freqtable[\"Cumsum\"]=dataset[\"ssc_p\"].cumsum()"
   ]
  },
  {
   "cell_type": "code",
   "execution_count": 28,
   "id": "5f4bebb9",
   "metadata": {},
   "outputs": [],
   "source": [
    "def freqtable(columnName,dataset):\n",
    "    freqtable=pd.DataFrame(columns=[\"Marks\",\"Frequency\",\"Relative_Frequency\",\"Cumsum\"])\n",
    "    freqtable[\"Marks\"]=dataset[columnName].value_counts().index\n",
    "    freqtable[\"Frequency\"]=dataset[columnName].value_counts().values\n",
    "    freqtable[\"Relative_Frequency\"]=freqtable[\"Frequency\"]/103\n",
    "    freqtable[\"Cumsum\"]=dataset[columnName].cumsum()\n",
    "    return freqtable\n"
   ]
  },
  {
   "cell_type": "code",
   "execution_count": 29,
   "id": "ec3f93d2",
   "metadata": {},
   "outputs": [
    {
     "data": {
      "text/html": [
       "<div>\n",
       "<style scoped>\n",
       "    .dataframe tbody tr th:only-of-type {\n",
       "        vertical-align: middle;\n",
       "    }\n",
       "\n",
       "    .dataframe tbody tr th {\n",
       "        vertical-align: top;\n",
       "    }\n",
       "\n",
       "    .dataframe thead th {\n",
       "        text-align: right;\n",
       "    }\n",
       "</style>\n",
       "<table border=\"1\" class=\"dataframe\">\n",
       "  <thead>\n",
       "    <tr style=\"text-align: right;\">\n",
       "      <th></th>\n",
       "      <th>Marks</th>\n",
       "      <th>Frequency</th>\n",
       "      <th>Relative_Frequency</th>\n",
       "      <th>Cumsum</th>\n",
       "    </tr>\n",
       "  </thead>\n",
       "  <tbody>\n",
       "    <tr>\n",
       "      <th>0</th>\n",
       "      <td>56.70</td>\n",
       "      <td>3</td>\n",
       "      <td>0.029126</td>\n",
       "      <td>58.80</td>\n",
       "    </tr>\n",
       "    <tr>\n",
       "      <th>1</th>\n",
       "      <td>59.47</td>\n",
       "      <td>2</td>\n",
       "      <td>0.019417</td>\n",
       "      <td>125.08</td>\n",
       "    </tr>\n",
       "    <tr>\n",
       "      <th>2</th>\n",
       "      <td>66.94</td>\n",
       "      <td>2</td>\n",
       "      <td>0.019417</td>\n",
       "      <td>182.88</td>\n",
       "    </tr>\n",
       "    <tr>\n",
       "      <th>3</th>\n",
       "      <td>61.29</td>\n",
       "      <td>2</td>\n",
       "      <td>0.019417</td>\n",
       "      <td>242.31</td>\n",
       "    </tr>\n",
       "    <tr>\n",
       "      <th>4</th>\n",
       "      <td>64.15</td>\n",
       "      <td>2</td>\n",
       "      <td>0.019417</td>\n",
       "      <td>297.81</td>\n",
       "    </tr>\n",
       "    <tr>\n",
       "      <th>...</th>\n",
       "      <td>...</td>\n",
       "      <td>...</td>\n",
       "      <td>...</td>\n",
       "      <td>...</td>\n",
       "    </tr>\n",
       "    <tr>\n",
       "      <th>200</th>\n",
       "      <td>76.26</td>\n",
       "      <td>1</td>\n",
       "      <td>0.009709</td>\n",
       "      <td>12525.83</td>\n",
       "    </tr>\n",
       "    <tr>\n",
       "      <th>201</th>\n",
       "      <td>57.99</td>\n",
       "      <td>1</td>\n",
       "      <td>0.009709</td>\n",
       "      <td>12584.27</td>\n",
       "    </tr>\n",
       "    <tr>\n",
       "      <th>202</th>\n",
       "      <td>61.87</td>\n",
       "      <td>1</td>\n",
       "      <td>0.009709</td>\n",
       "      <td>12644.38</td>\n",
       "    </tr>\n",
       "    <tr>\n",
       "      <th>203</th>\n",
       "      <td>56.09</td>\n",
       "      <td>1</td>\n",
       "      <td>0.009709</td>\n",
       "      <td>12702.68</td>\n",
       "    </tr>\n",
       "    <tr>\n",
       "      <th>204</th>\n",
       "      <td>60.64</td>\n",
       "      <td>1</td>\n",
       "      <td>0.009709</td>\n",
       "      <td>12770.37</td>\n",
       "    </tr>\n",
       "  </tbody>\n",
       "</table>\n",
       "<p>205 rows × 4 columns</p>\n",
       "</div>"
      ],
      "text/plain": [
       "     Marks  Frequency  Relative_Frequency    Cumsum\n",
       "0    56.70          3            0.029126     58.80\n",
       "1    59.47          2            0.019417    125.08\n",
       "2    66.94          2            0.019417    182.88\n",
       "3    61.29          2            0.019417    242.31\n",
       "4    64.15          2            0.019417    297.81\n",
       "..     ...        ...                 ...       ...\n",
       "200  76.26          1            0.009709  12525.83\n",
       "201  57.99          1            0.009709  12584.27\n",
       "202  61.87          1            0.009709  12644.38\n",
       "203  56.09          1            0.009709  12702.68\n",
       "204  60.64          1            0.009709  12770.37\n",
       "\n",
       "[205 rows x 4 columns]"
      ]
     },
     "execution_count": 29,
     "metadata": {},
     "output_type": "execute_result"
    }
   ],
   "source": [
    "freqtable(\"mba_p\",dataset)"
   ]
  },
  {
   "cell_type": "code",
   "execution_count": null,
   "id": "5bac0bd4",
   "metadata": {},
   "outputs": [],
   "source": []
  }
 ],
 "metadata": {
  "kernelspec": {
   "display_name": "Python 3 (ipykernel)",
   "language": "python",
   "name": "python3"
  },
  "language_info": {
   "codemirror_mode": {
    "name": "ipython",
    "version": 3
   },
   "file_extension": ".py",
   "mimetype": "text/x-python",
   "name": "python",
   "nbconvert_exporter": "python",
   "pygments_lexer": "ipython3",
   "version": "3.7.6"
  }
 },
 "nbformat": 4,
 "nbformat_minor": 5
}
